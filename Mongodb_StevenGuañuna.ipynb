{
 "cells": [
  {
   "cell_type": "code",
   "execution_count": 7,
   "id": "e589374d",
   "metadata": {},
   "outputs": [
    {
     "name": "stdout",
     "output_type": "stream",
     "text": [
      "LISTADO DE CIUDADANOS\n",
      "INGRESE N CIUDADANOS3\n",
      "****************************\n",
      "Crear una función que muestre los elementos ingresados en la base de datos.\n",
      "{'_id': ObjectId('61e8a0fce1a1f6ddbbef9d3e'), 'Nombres_Completos': ['Ricardo', 'Steven'], 'Apellidos_Completos': ['Chavez', 'Zambrano'], 'Edad:': [77], 'Cedula:': 3019487526}\n",
      "{'_id': ObjectId('61e8a0fce1a1f6ddbbef9d3f'), 'Nombres_Completos': ['Jorge', 'Paula'], 'Apellidos_Completos': ['Escobar', 'Zaldumbide'], 'Edad:': [36], 'Cedula:': 4310867205}\n",
      "{'_id': ObjectId('61e8a0fce1a1f6ddbbef9d40'), 'Nombres_Completos': ['Steven', 'Jorge'], 'Apellidos_Completos': ['Muzo', 'Pinanjota'], 'Edad:': [48], 'Cedula:': 7365670164}\n",
      "{'_id': ObjectId('61e8a67ce1a1f6ddbbef9d42'), 'Nombres_Completos': ['Steven', 'Ricardo'], 'Apellidos_Completos': ['Escobar', 'Zaldumbide'], 'Edad:': [74], 'Cedula:': 7641884736}\n",
      "{'_id': ObjectId('61e8a67ce1a1f6ddbbef9d43'), 'Nombres_Completos': ['Jorge', 'Luis'], 'Apellidos_Completos': ['Zambrano', 'Guaniuna'], 'Edad:': [64], 'Cedula:': 8023610124}\n",
      "{'_id': ObjectId('61e8a67ce1a1f6ddbbef9d44'), 'Nombres_Completos': ['Paula', 'Paul'], 'Apellidos_Completos': ['Chavez', 'Zaldumbide'], 'Edad:': [77], 'Cedula:': 7974477099}\n",
      "{'_id': ObjectId('61e8aac4e1a1f6ddbbef9d46'), 'Nombres_Completos': ['Kevin', 'Jorge'], 'Apellidos_Completos': ['Espinoza', 'Zaldumbide'], 'Edad:': [75], 'Cedula:': 6383863953}\n",
      "{'_id': ObjectId('61e8aac4e1a1f6ddbbef9d47'), 'Nombres_Completos': ['Paula', 'Ricardo'], 'Apellidos_Completos': ['Zambrano', 'Espinoza'], 'Edad:': [30], 'Cedula:': 77902776}\n",
      "{'_id': ObjectId('61e8aac4e1a1f6ddbbef9d48'), 'Nombres_Completos': ['Paula', 'Paul'], 'Apellidos_Completos': ['Guaniuna', 'Zaldumbide'], 'Edad:': [77], 'Cedula:': 382933647}\n",
      "{'_id': ObjectId('61e8ab30e1a1f6ddbbef9d4a'), 'Nombres_Completos': ['Luis', 'Luis'], 'Apellidos_Completos': ['Zaldumbide', 'Escobar'], 'Edad:': [46], 'Cedula:': 5512661937}\n",
      "{'_id': ObjectId('61e8ab30e1a1f6ddbbef9d4b'), 'Nombres_Completos': ['Kevin', 'Dustin'], 'Apellidos_Completos': ['Zaldumbide', 'Zaldumbide'], 'Edad:': [43], 'Cedula:': 5373683001}\n",
      "{'_id': ObjectId('61e8ab30e1a1f6ddbbef9d4c'), 'Nombres_Completos': ['Ricardo', 'Luis'], 'Apellidos_Completos': ['Zaldumbide', 'Muzo'], 'Edad:': [35], 'Cedula:': 6697707732}\n",
      "{'_id': ObjectId('61e8ab3ee1a1f6ddbbef9d4e'), 'Nombres_Completos': ['Paula', 'Miguel'], 'Apellidos_Completos': ['Chavez', 'Escobar'], 'Edad:': [48], 'Cedula:': 3550497939}\n",
      "{'_id': ObjectId('61e8ab3ee1a1f6ddbbef9d4f'), 'Nombres_Completos': ['Luis', 'Paula'], 'Apellidos_Completos': ['Zambrano', 'Muzo'], 'Edad:': [46], 'Cedula:': 8363071215}\n",
      "{'_id': ObjectId('61e8ab3ee1a1f6ddbbef9d50'), 'Nombres_Completos': ['Kevin', 'Steven'], 'Apellidos_Completos': ['Muzo', 'Zaldumbide'], 'Edad:': [40], 'Cedula:': 5992574022}\n"
     ]
    }
   ],
   "source": [
    "#Steven Guañuna\n",
    "\n",
    "import pymongo\n",
    "from pymongo import MongoClient\n",
    "from pymongo.errors import ConnectionFailure\n",
    "\n",
    "client = MongoClient('localhost',27017)\n",
    "#db.create_collection(\"clasemongodb\")\n",
    "db = client[\"clasemongodb\"]\n",
    "\n",
    "listas= db.listas\n",
    "\n",
    "import numpy as np\n",
    "import random\n",
    "\n",
    "print(\"LISTADO DE CIUDADANOS\")\n",
    "nombres=[\"Luis\",\"Miguel\",\"Kevin\",\"Dustin\",\"Paula\",\"Steven\",\"Paul\",\"Jorge\",\"Ricardo\",\"Eduardo\"]\n",
    "apellidos=[\"Muzo\",\"Chavez\",\"Pinanjota\",\"Perez\",\"Zambrano\",\"Zaldumbide\",\"Guaniuna\",\"Espinoza\",\"Escobar\",\"Monteros\"]\n",
    "\n",
    "\n",
    "k=int(input(\"INGRESE N CIUDADANOS\"))\n",
    "\n",
    "for i in range(k):\n",
    "    a = np.random.randint(low=1, high=1000000009, size=1).tolist()\n",
    "    \n",
    "    edad = np.random.randint(low=18, high=80, size=1).tolist()\n",
    "\n",
    "    \n",
    "\n",
    "    nom_C=[]\n",
    "    ape_C=[]\n",
    "    \n",
    "    \n",
    "    for i in range (2):\n",
    "        n=np.random.randint(0,9)\n",
    "        nom_C.append(nombres[n])\n",
    "\n",
    "\n",
    "    \n",
    "    \n",
    "\n",
    "\n",
    "    for i in range (2):\n",
    "        n=np.random.randint(0,9)\n",
    "        ape_C.append(apellidos[n])\n",
    "        \n",
    "\n",
    "    \n",
    "    p=a[0]*9\n",
    "\n",
    "\n",
    "   \n",
    "    \n",
    "    \n",
    "    script=[{'Nombres_Completos':nom_C,'Apellidos_Completos':ape_C,'Edad:':edad,'Cedula:':p}]\n",
    "    \n",
    "    listas.insert_many(script)\n",
    "    \n",
    "print(\"****************************\")\n",
    "print(\"Crear una función que muestre los elementos ingresados en la base de datos.\")\n",
    "cursor = db.listas.find({})\n",
    "for doc in cursor:\n",
    "    print(doc)"
   ]
  },
  {
   "cell_type": "code",
   "execution_count": 2,
   "id": "b7d145a6",
   "metadata": {},
   "outputs": [
    {
     "name": "stdout",
     "output_type": "stream",
     "text": [
      "Defaulting to user installation because normal site-packages is not writeable\n",
      "Collecting pymongo\n",
      "  Downloading pymongo-4.0.1-cp310-cp310-win_amd64.whl (354 kB)\n",
      "Installing collected packages: pymongo\n",
      "Successfully installed pymongo-4.0.1\n",
      "Note: you may need to restart the kernel to use updated packages.\n"
     ]
    }
   ],
   "source": [
    "pip install pymongo"
   ]
  },
  {
   "cell_type": "code",
   "execution_count": null,
   "id": "26fa356c",
   "metadata": {},
   "outputs": [],
   "source": []
  }
 ],
 "metadata": {
  "kernelspec": {
   "display_name": "Python 3 (ipykernel)",
   "language": "python",
   "name": "python3"
  },
  "language_info": {
   "codemirror_mode": {
    "name": "ipython",
    "version": 3
   },
   "file_extension": ".py",
   "mimetype": "text/x-python",
   "name": "python",
   "nbconvert_exporter": "python",
   "pygments_lexer": "ipython3",
   "version": "3.10.1"
  }
 },
 "nbformat": 4,
 "nbformat_minor": 5
}
